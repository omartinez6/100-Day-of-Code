{
 "cells": [
  {
   "metadata": {},
   "cell_type": "markdown",
   "source": "### Data types",
   "id": "e8ce8f06e83082a3"
  },
  {
   "metadata": {
    "ExecuteTime": {
     "end_time": "2025-06-29T19:08:34.127207Z",
     "start_time": "2025-06-29T19:08:34.117427Z"
    }
   },
   "cell_type": "code",
   "source": "print(\"Hello\"[0])",
   "id": "b54472bef0973cbb",
   "outputs": [
    {
     "name": "stdout",
     "output_type": "stream",
     "text": [
      "H\n"
     ]
    }
   ],
   "execution_count": 1
  },
  {
   "metadata": {
    "ExecuteTime": {
     "end_time": "2025-06-29T19:09:15.760911Z",
     "start_time": "2025-06-29T19:09:15.754610Z"
    }
   },
   "cell_type": "code",
   "source": "print(\"Hello\"[4])",
   "id": "f5a206f7da710ece",
   "outputs": [
    {
     "name": "stdout",
     "output_type": "stream",
     "text": [
      "o\n"
     ]
    }
   ],
   "execution_count": 2
  },
  {
   "metadata": {
    "ExecuteTime": {
     "end_time": "2025-06-29T19:09:25.286708Z",
     "start_time": "2025-06-29T19:09:25.279407Z"
    }
   },
   "cell_type": "code",
   "source": "print(\"Hello\"[-1])",
   "id": "3568ba1a99b2df36",
   "outputs": [
    {
     "name": "stdout",
     "output_type": "stream",
     "text": [
      "o\n"
     ]
    }
   ],
   "execution_count": 3
  },
  {
   "metadata": {},
   "cell_type": "code",
   "outputs": [],
   "execution_count": null,
   "source": "",
   "id": "4e25126a19e2e7a2"
  }
 ],
 "metadata": {
  "kernelspec": {
   "display_name": "Python 3",
   "language": "python",
   "name": "python3"
  },
  "language_info": {
   "codemirror_mode": {
    "name": "ipython",
    "version": 2
   },
   "file_extension": ".py",
   "mimetype": "text/x-python",
   "name": "python",
   "nbconvert_exporter": "python",
   "pygments_lexer": "ipython2",
   "version": "2.7.6"
  }
 },
 "nbformat": 4,
 "nbformat_minor": 5
}
