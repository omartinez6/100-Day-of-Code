{
 "cells": [
  {
   "metadata": {},
   "cell_type": "markdown",
   "source": "### Printing",
   "id": "ec84627cee3d8368"
  },
  {
   "cell_type": "code",
   "id": "969f373f-42fb-4a9a-9d98-f61ebaef3b0d",
   "metadata": {
    "ExecuteTime": {
     "end_time": "2025-06-29T15:18:36.823953Z",
     "start_time": "2025-06-29T15:18:36.803625Z"
    }
   },
   "source": "print(\"Hello world!\")",
   "outputs": [
    {
     "name": "stdout",
     "output_type": "stream",
     "text": [
      "Hello world!\n"
     ]
    }
   ],
   "execution_count": 9
  },
  {
   "metadata": {},
   "cell_type": "markdown",
   "source": "### String Manipulation",
   "id": "d64c5e3045a95869"
  },
  {
   "metadata": {
    "ExecuteTime": {
     "end_time": "2025-06-29T15:18:37.988165Z",
     "start_time": "2025-06-29T15:18:37.981516Z"
    }
   },
   "cell_type": "code",
   "source": "print(\"Hello world!\\nHello world!\")",
   "id": "1ea53b66cc4666f5",
   "outputs": [
    {
     "name": "stdout",
     "output_type": "stream",
     "text": [
      "Hello world!\n",
      "Hello world!\n"
     ]
    }
   ],
   "execution_count": 10
  },
  {
   "metadata": {
    "ExecuteTime": {
     "end_time": "2025-06-29T15:18:38.596614Z",
     "start_time": "2025-06-29T15:18:38.589692Z"
    }
   },
   "cell_type": "code",
   "source": "print(\"Hello \" + \"Osvaldo\")",
   "id": "1ef6b33e3d0617a3",
   "outputs": [
    {
     "name": "stdout",
     "output_type": "stream",
     "text": [
      "Hello Osvaldo\n"
     ]
    }
   ],
   "execution_count": 11
  },
  {
   "metadata": {},
   "cell_type": "markdown",
   "source": "### Input",
   "id": "b177004ba9648ad3"
  },
  {
   "metadata": {
    "ExecuteTime": {
     "end_time": "2025-06-29T15:18:44.360873Z",
     "start_time": "2025-06-29T15:18:40.090112Z"
    }
   },
   "cell_type": "code",
   "source": "input(\"What is your name?\")",
   "id": "be9d5d1662cb7476",
   "outputs": [
    {
     "data": {
      "text/plain": [
       "'Osvaldo'"
      ]
     },
     "execution_count": 12,
     "metadata": {},
     "output_type": "execute_result"
    }
   ],
   "execution_count": 12
  },
  {
   "metadata": {
    "ExecuteTime": {
     "end_time": "2025-06-29T15:18:53.352087Z",
     "start_time": "2025-06-29T15:18:50.604083Z"
    }
   },
   "cell_type": "code",
   "source": "print(\"Hello \" + input(\"What is your name?\"))",
   "id": "c07d8950abdcb44d",
   "outputs": [
    {
     "name": "stdout",
     "output_type": "stream",
     "text": [
      "Hello Osvaldo\n"
     ]
    }
   ],
   "execution_count": 14
  },
  {
   "metadata": {
    "ExecuteTime": {
     "end_time": "2025-06-29T15:24:12.621767Z",
     "start_time": "2025-06-29T15:24:09.541948Z"
    }
   },
   "cell_type": "code",
   "source": [
    "# This line of code will take an input using the input() function\n",
    "print(\"Hello \" + input(\"What is your name\") + \"!\")"
   ],
   "id": "dc69cb256834aeae",
   "outputs": [
    {
     "name": "stdout",
     "output_type": "stream",
     "text": [
      "Hello Osvaldo!\n"
     ]
    }
   ],
   "execution_count": 17
  },
  {
   "metadata": {},
   "cell_type": "markdown",
   "source": "### Variables",
   "id": "e677d4da035e5231"
  },
  {
   "metadata": {
    "ExecuteTime": {
     "end_time": "2025-06-29T15:32:18.629324Z",
     "start_time": "2025-06-29T15:32:15.816712Z"
    }
   },
   "cell_type": "code",
   "source": [
    "name = input(\"What is your name?\")\n",
    "length = len(name)\n",
    "print(length)"
   ],
   "id": "b583f4f24f47db03",
   "outputs": [
    {
     "name": "stdout",
     "output_type": "stream",
     "text": [
      "7\n"
     ]
    }
   ],
   "execution_count": 22
  },
  {
   "metadata": {},
   "cell_type": "markdown",
   "source": "### Variable naming",
   "id": "4bed15abcb8d95ad"
  },
  {
   "metadata": {
    "ExecuteTime": {
     "end_time": "2025-06-29T16:08:43.691516Z",
     "start_time": "2025-06-29T16:08:43.621636Z"
    }
   },
   "cell_type": "code",
   "source": [
    "# n = \"Osvaldo\"\n",
    "# l = len(n)\n",
    "# print(l)\n",
    "\n",
    "user_name = \"Osvaldo\"\n",
    "name_length = len(user_name)\n",
    "print(name_length)"
   ],
   "id": "6b2c53cd33934ab8",
   "outputs": [
    {
     "name": "stdout",
     "output_type": "stream",
     "text": [
      "7\n"
     ]
    }
   ],
   "execution_count": 23
  },
  {
   "metadata": {},
   "cell_type": "markdown",
   "source": "### Day 1 project",
   "id": "67f844109be77792"
  },
  {
   "metadata": {
    "ExecuteTime": {
     "end_time": "2025-06-29T16:16:39.502571Z",
     "start_time": "2025-06-29T16:16:29.289209Z"
    }
   },
   "cell_type": "code",
   "source": [
    "print(\"Welcome to the band name generator\")\n",
    "print(\"Hello, this is our band name generator. Please, fill the following prompts and discover yor perfect band name!\")\n",
    "user_city = input(\"What city did you born?\\n\")\n",
    "user_pet = input(\"What is your pet's name\\n\")\n",
    "\n",
    "band_name = user_city + \" \" + user_pet\n",
    "\n",
    "print(\"Your band name is \" + band_name)"
   ],
   "id": "4b1c75ad54bedfbc",
   "outputs": [
    {
     "name": "stdout",
     "output_type": "stream",
     "text": [
      "Welcome to the band name generator\n",
      "Hello, this is our band name generator. Please, fill the following prompts and discover yor perfect band name!\n",
      "Your band name is Neza Concha\n"
     ]
    }
   ],
   "execution_count": 25
  }
 ],
 "metadata": {
  "kernelspec": {
   "display_name": "Python 3 (ipykernel)",
   "language": "python",
   "name": "python3"
  },
  "language_info": {
   "codemirror_mode": {
    "name": "ipython",
    "version": 3
   },
   "file_extension": ".py",
   "mimetype": "text/x-python",
   "name": "python",
   "nbconvert_exporter": "python",
   "pygments_lexer": "ipython3",
   "version": "3.13.2"
  }
 },
 "nbformat": 4,
 "nbformat_minor": 5
}
